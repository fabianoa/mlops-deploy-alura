{
 "cells": [
  {
   "cell_type": "code",
   "execution_count": 1,
   "id": "3cfa7ff8",
   "metadata": {},
   "outputs": [],
   "source": [
    "from textblob import TextBlob"
   ]
  },
  {
   "cell_type": "code",
   "execution_count": 8,
   "id": "9667c4ea",
   "metadata": {},
   "outputs": [],
   "source": [
    "frase = \"Python é ótimo para Machine Learning\"\n",
    "tb = TextBlob(frase)\n",
    "tb_en = tb.translate(to='en')"
   ]
  },
  {
   "cell_type": "code",
   "execution_count": 10,
   "id": "74671e41",
   "metadata": {},
   "outputs": [
    {
     "data": {
      "text/plain": [
       "0.8"
      ]
     },
     "execution_count": 10,
     "metadata": {},
     "output_type": "execute_result"
    }
   ],
   "source": [
    "tb_en.sentiment.polarity"
   ]
  },
  {
   "cell_type": "code",
   "execution_count": 11,
   "id": "d01b7321",
   "metadata": {},
   "outputs": [
    {
     "data": {
      "text/plain": [
       "TextBlob(\"Python is great for Machine Learning\")"
      ]
     },
     "execution_count": 11,
     "metadata": {},
     "output_type": "execute_result"
    }
   ],
   "source": [
    "tb_en"
   ]
  },
  {
   "cell_type": "code",
   "execution_count": null,
   "id": "9fab7174",
   "metadata": {},
   "outputs": [],
   "source": []
  }
 ],
 "metadata": {
  "kernelspec": {
   "display_name": "Python 3",
   "language": "python",
   "name": "python3"
  },
  "language_info": {
   "codemirror_mode": {
    "name": "ipython",
    "version": 3
   },
   "file_extension": ".py",
   "mimetype": "text/x-python",
   "name": "python",
   "nbconvert_exporter": "python",
   "pygments_lexer": "ipython3",
   "version": "3.8.8"
  }
 },
 "nbformat": 4,
 "nbformat_minor": 5
}
